{
 "cells": [
  {
   "cell_type": "code",
   "execution_count": 1,
   "metadata": {
    "collapsed": true
   },
   "outputs": [],
   "source": [
    "import numpy as np"
   ]
  },
  {
   "cell_type": "code",
   "execution_count": 2,
   "metadata": {
    "scrolled": false
   },
   "outputs": [
    {
     "data": {
      "text/plain": [
       "27283.137651633446"
      ]
     },
     "execution_count": 2,
     "metadata": {},
     "output_type": "execute_result"
    }
   ],
   "source": [
    "incomes = np.random.normal(27000,15000,10000)\n",
    "np.mean(incomes)\n"
   ]
  },
  {
   "cell_type": "code",
   "execution_count": 3,
   "metadata": {
    "collapsed": true
   },
   "outputs": [],
   "source": [
    "import matplotlib.pyplot as plt "
   ]
  },
  {
   "cell_type": "code",
   "execution_count": 4,
   "metadata": {},
   "outputs": [
    {
     "data": {
      "image/png": "[encoded data removed]",
      "text/plain": [
       "<matplotlib.figure.Figure at 0x7f391d0afa20>"
      ]
     },
     "metadata": {},
     "output_type": "display_data"
    }
   ],
   "source": [
    "plt.hist(incomes , 60)\n",
    "plt.show()"
   ]
  },
  {
   "cell_type": "code",
   "execution_count": 5,
   "metadata": {},
   "outputs": [
    {
     "data": {
      "text/plain": [
       "27462.1004244094"
      ]
     },
     "execution_count": 5,
     "metadata": {},
     "output_type": "execute_result"
    }
   ],
   "source": [
    "np.median(incomes)"
   ]
  },
  {
   "cell_type": "code",
   "execution_count": 6,
   "metadata": {
    "collapsed": true
   },
   "outputs": [],
   "source": [
    "#exempplo de Mean , Median , Mode"
   ]
  },
  {
   "cell_type": "code",
   "execution_count": 7,
   "metadata": {
    "collapsed": true
   },
   "outputs": [],
   "source": [
    "irm = [14,15,25]\n",
    "\n",
    "idades = [18 , 19 , 19 , 22, 44,45,46,47,48]"
   ]
  },
  {
   "cell_type": "code",
   "execution_count": 8,
   "metadata": {},
   "outputs": [
    {
     "data": {
      "text/plain": [
       "18.0"
      ]
     },
     "execution_count": 8,
     "metadata": {},
     "output_type": "execute_result"
    }
   ],
   "source": [
    "np.mean(irm)"
   ]
  },
  {
   "cell_type": "code",
   "execution_count": 9,
   "metadata": {},
   "outputs": [
    {
     "data": {
      "text/plain": [
       "44.0"
      ]
     },
     "execution_count": 9,
     "metadata": {},
     "output_type": "execute_result"
    }
   ],
   "source": [
    "np.median(idades)"
   ]
  },
  {
   "cell_type": "markdown",
   "metadata": {},
   "source": [
    "## Mode"
   ]
  },
  {
   "cell_type": "code",
   "execution_count": 15,
   "metadata": {},
   "outputs": [],
   "source": [
    "import numpy as np \n",
    "from scipy import stats"
   ]
  },
  {
   "cell_type": "code",
   "execution_count": 16,
   "metadata": {},
   "outputs": [],
   "source": [
    "ages = np.random.randint(18, high = 90, size = 500)\n"
   ]
  },
  {
   "cell_type": "code",
   "execution_count": 17,
   "metadata": {},
   "outputs": [
    {
     "name": "stdout",
     "output_type": "stream",
     "text": [
      "[26 62 45 87 87 23 56 63 85 47 19 20 83 42 49 21 19 84 60 64 28 19 35 18 46\n",
      " 45 21 27 27 56 71 55 22 49 62 87 36 72 53 43 53 87 38 50 63 44 49 49 61 72\n",
      " 61 22 82 67 74 72 25 59 26 19 60 27 79 88 48 57 88 34 64 65 74 19 27 51 22\n",
      " 89 29 48 56 54 63 37 22 43 85 85 41 26 41 46 44 45 58 28 55 36 62 68 39 84\n",
      " 56 84 70 64 44 32 64 62 33 39 73 84 31 37 84 83 27 78 81 30 54 30 76 55 81\n",
      " 81 67 82 70 67 33 60 68 50 42 82 77 57 31 64 76 18 45 44 88 72 71 47 20 63\n",
      " 49 71 68 67 77 41 20 62 57 68 52 61 53 20 57 32 84 59 65 29 72 20 48 61 51\n",
      " 34 33 32 31 74 79 30 79 45 70 50 61 82 29 41 39 82 57 44 59 64 75 87 89 63\n",
      " 19 37 18 67 41 44 70 63 41 56 55 24 73 71 43 60 25 37 70 88 76 27 27 68 22\n",
      " 67 18 74 19 33 36 28 82 78 50 75 72 72 78 83 84 44 45 28 70 18 50 57 31 60\n",
      " 39 19 40 18 72 71 45 27 88 78 35 32 60 47 71 22 59 38 77 66 35 55 28 29 21\n",
      " 22 76 54 70 45 43 34 51 39 62 89 50 63 85 31 71 78 45 60 24 48 20 22 22 52\n",
      " 54 38 21 74 37 31 19 25 51 64 24 73 28 80 75 19 80 88 65 48 73 22 26 37 78\n",
      " 80 74 22 50 28 23 31 68 32 73 42 40 88 79 89 28 87 79 22 60 45 26 33 77 57\n",
      " 35 86 55 66 84 69 25 45 30 61 49 60 56 66 87 71 32 46 40 31 38 39 65 83 79\n",
      " 35 66 46 60 71 55 36 46 50 63 75 25 35 68 86 83 71 25 39 72 87 88 69 37 26\n",
      " 51 42 68 23 59 87 53 80 50 22 26 21 88 49 48 28 57 77 43 75 40 30 65 52 59\n",
      " 67 87 60 83 83 79 75 35 27 26 48 47 70 40 45 65 43 71 68 36 54 68 42 32 34\n",
      " 40 52 18 27 39 50 77 36 52 37 26 46 27 63 89 31 86 62 23 24 45 72 72 53 48\n",
      " 24 31 31 83 32 20 79 80 23 29 62 75 52 81 45 80 83 35 29 78 36 65 68 69 78]\n"
     ]
    }
   ],
   "source": [
    "print(ages)"
   ]
  },
  {
   "cell_type": "code",
   "execution_count": 18,
   "metadata": {},
   "outputs": [
    {
     "data": {
      "text/plain": [
       "ModeResult(mode=array([45]), count=array([14]))"
      ]
     },
     "execution_count": 18,
     "metadata": {},
     "output_type": "execute_result"
    }
   ],
   "source": [
    "stats.mode(ages)"
   ]
  },
  {
   "cell_type": "code",
   "execution_count": null,
   "metadata": {
    "collapsed": true
   },
   "outputs": [],
   "source": []
  }
 ],
 "metadata": {
  "kernelspec": {
   "display_name": "Python 3",
   "language": "python",
   "name": "python3"
  },
  "language_info": {
   "codemirror_mode": {
    "name": "ipython",
    "version": 3
   },
   "file_extension": ".py",
   "mimetype": "text/x-python",
   "name": "python",
   "nbconvert_exporter": "python",
   "pygments_lexer": "ipython3",
   "version": "3.5.2"
  }
 },
 "nbformat": 4,
 "nbformat_minor": 2
}
